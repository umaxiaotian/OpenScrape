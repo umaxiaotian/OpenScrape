{
 "cells": [
  {
   "cell_type": "code",
   "execution_count": null,
   "id": "d1374cf0-579e-47db-b5f1-d66f27e55561",
   "metadata": {},
   "outputs": [],
   "source": [
    "# OpenScrape Installing"
   ]
  },
  {
   "cell_type": "markdown",
   "id": "d26d3143-34fb-4abc-b923-96d702c4efbc",
   "metadata": {},
   "source": [
    "!pip install git+https://github.com/umaxiaotian/OpenScrape.git@main"
   ]
  },
  {
   "cell_type": "code",
   "execution_count": 1,
   "id": "94a0e53d-29cd-4af5-8d45-c6ca36276e6d",
   "metadata": {},
   "outputs": [
    {
     "name": "stdout",
     "output_type": "stream",
     "text": [
      "Requirement already satisfied: pandas in c:\\python\\lib\\site-packages (1.5.3)\n",
      "Requirement already satisfied: python-dateutil>=2.8.1 in c:\\python\\lib\\site-packages (from pandas) (2.8.2)\n",
      "Requirement already satisfied: pytz>=2020.1 in c:\\python\\lib\\site-packages (from pandas) (2023.3)\n",
      "Requirement already satisfied: numpy>=1.21.0 in c:\\python\\lib\\site-packages (from pandas) (1.23.5)\n",
      "Requirement already satisfied: six>=1.5 in c:\\python\\lib\\site-packages (from python-dateutil>=2.8.1->pandas) (1.16.0)\n"
     ]
    },
    {
     "name": "stderr",
     "output_type": "stream",
     "text": [
      "\n",
      "[notice] A new release of pip is available: 23.1.2 -> 23.3.2\n",
      "[notice] To update, run: python.exe -m pip install --upgrade pip\n"
     ]
    }
   ],
   "source": [
    "!pip install pandas"
   ]
  },
  {
   "cell_type": "code",
   "execution_count": 6,
   "id": "dc50592d-bb26-44c5-baa4-947e8f54a310",
   "metadata": {},
   "outputs": [
    {
     "data": {
      "text/plain": [
       "[{'title': 'Qiita',\n",
       "  'link': 'https://qiita.com/',\n",
       "  'description': 'ウェブQiitaは、エンジニアに関する知識を記録・共有するためのサービスです。 プログラミングに関するTips、ノウハウ、メモを簡単に記録 & 公開することができます。'}]"
      ]
     },
     "execution_count": 6,
     "metadata": {},
     "output_type": "execute_result"
    }
   ],
   "source": [
    "from OpenScrape import bing\n",
    "import pandas as pd\n",
    "\n",
    "#トップ1までを取得\n",
    "result = bing.search(search=\"Qiita\",num_results=1)\n",
    "result\n"
   ]
  },
  {
   "cell_type": "code",
   "execution_count": 8,
   "id": "e751627d-5039-41ff-acf9-c7dffbdc3d21",
   "metadata": {},
   "outputs": [
    {
     "data": {
      "text/html": [
       "<div>\n",
       "<style scoped>\n",
       "    .dataframe tbody tr th:only-of-type {\n",
       "        vertical-align: middle;\n",
       "    }\n",
       "\n",
       "    .dataframe tbody tr th {\n",
       "        vertical-align: top;\n",
       "    }\n",
       "\n",
       "    .dataframe thead th {\n",
       "        text-align: right;\n",
       "    }\n",
       "</style>\n",
       "<table border=\"1\" class=\"dataframe\">\n",
       "  <thead>\n",
       "    <tr style=\"text-align: right;\">\n",
       "      <th></th>\n",
       "      <th>title</th>\n",
       "      <th>link</th>\n",
       "      <th>description</th>\n",
       "    </tr>\n",
       "  </thead>\n",
       "  <tbody>\n",
       "    <tr>\n",
       "      <th>0</th>\n",
       "      <td>Qiita</td>\n",
       "      <td>https://qiita.com/</td>\n",
       "      <td>ウェブQiitaは、エンジニアに関する知識を記録・共有するためのサービスです。 プログラミン...</td>\n",
       "    </tr>\n",
       "  </tbody>\n",
       "</table>\n",
       "</div>"
      ],
      "text/plain": [
       "   title                link  \\\n",
       "0  Qiita  https://qiita.com/   \n",
       "\n",
       "                                         description  \n",
       "0  ウェブQiitaは、エンジニアに関する知識を記録・共有するためのサービスです。 プログラミン...  "
      ]
     },
     "execution_count": 8,
     "metadata": {},
     "output_type": "execute_result"
    }
   ],
   "source": [
    "# データをpandas DataFrameに変換\n",
    "df = pd.DataFrame(result)\n",
    "\n",
    "# DataFrameを表示\n",
    "df"
   ]
  }
 ],
 "metadata": {
  "kernelspec": {
   "display_name": "Python 3 (ipykernel)",
   "language": "python",
   "name": "python3"
  },
  "language_info": {
   "codemirror_mode": {
    "name": "ipython",
    "version": 3
   },
   "file_extension": ".py",
   "mimetype": "text/x-python",
   "name": "python",
   "nbconvert_exporter": "python",
   "pygments_lexer": "ipython3",
   "version": "3.10.6"
  }
 },
 "nbformat": 4,
 "nbformat_minor": 5
}
